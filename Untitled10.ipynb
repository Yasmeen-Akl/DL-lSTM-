{
  "nbformat": 4,
  "nbformat_minor": 0,
  "metadata": {
    "colab": {
      "provenance": []
    },
    "kernelspec": {
      "name": "python3",
      "display_name": "Python 3"
    },
    "language_info": {
      "name": "python"
    }
  },
  "cells": [
    {
      "cell_type": "code",
      "execution_count": 1,
      "metadata": {
        "colab": {
          "base_uri": "https://localhost:8080/"
        },
        "id": "uKkj1yrqI8et",
        "outputId": "44962c0f-0943-4004-814d-24b9e3149c94"
      },
      "outputs": [
        {
          "output_type": "stream",
          "name": "stdout",
          "text": [
            "Time step 1: Input = 1\n",
            "  Forget gate: f_t = 0.6225\n",
            "  Input gate: i_t = 0.6457\n",
            "  Candidate memory: Ct_tilde = 0.6044\n",
            "  Cell state: C_t = 0.3902\n",
            "  Output gate: o_t = 0.6900\n",
            "  Hidden state: h_t = 0.2564\n",
            "\n",
            "Time step 2: Input = 2\n",
            "  Forget gate: f_t = 0.7361\n",
            "  Input gate: i_t = 0.7775\n",
            "  Candidate memory: Ct_tilde = 0.9009\n",
            "  Cell state: C_t = 0.9877\n",
            "  Output gate: o_t = 0.8459\n",
            "  Hidden state: h_t = 0.6398\n",
            "\n",
            "Time step 3: Input = 3\n",
            "  Forget gate: f_t = 0.8269\n",
            "  Input gate: i_t = 0.8730\n",
            "  Candidate memory: Ct_tilde = 0.9798\n",
            "  Cell state: C_t = 1.6721\n",
            "  Output gate: o_t = 0.9344\n",
            "  Hidden state: h_t = 0.8707\n",
            "\n",
            "Final output y: 3.4827\n"
          ]
        }
      ],
      "source": [
        "import math\n",
        "\n",
        "# Activation functions\n",
        "def sigmoid(x):\n",
        "    return 1 / (1 + math.exp(-x))\n",
        "\n",
        "def tanh(x):\n",
        "    return math.tanh(x)\n",
        "\n",
        "# Initialize weights and biases\n",
        "Wf, Whf, bf = 0.5, 0.1, 0  # Forget gate\n",
        "Wi, Whi, bi = 0.6, 0.2, 0  # Input gate\n",
        "Wc, Whc, bc = 0.7, 0.3, 0  # Candidate gate\n",
        "Wo, Who, bo = 0.8, 0.4, 0  # Output gate\n",
        "Wy, by = 4, 0  # Output layer\n",
        "\n",
        "# Initialize states\n",
        "h = 0  # Initial hidden state\n",
        "C = 0  # Initial cell state\n",
        "\n",
        "# Input sequence\n",
        "X = [1, 2, 3]  # Input sequence\n",
        "\n",
        "# Step-by-step LSTM computations\n",
        "for t, x in enumerate(X):\n",
        "    print(f\"Time step {t+1}: Input = {x}\")\n",
        "\n",
        "    # Forget gate\n",
        "    ft = sigmoid(Wf * x + Whf * h + bf)\n",
        "\n",
        "    # Input gate\n",
        "    it = sigmoid(Wi * x + Whi * h + bi)\n",
        "\n",
        "    # Candidate memory\n",
        "    Ct_tilde = tanh(Wc * x + Whc * h + bc)\n",
        "\n",
        "    # Cell state update\n",
        "    C = ft * C + it * Ct_tilde\n",
        "\n",
        "    # Output gate\n",
        "    ot = sigmoid(Wo * x + Who * h + bo)\n",
        "\n",
        "    # Hidden state update\n",
        "    h = ot * tanh(C)\n",
        "\n",
        "    # Print out all the gate values and states at this step\n",
        "    print(f\"  Forget gate: f_t = {ft:.4f}\")\n",
        "    print(f\"  Input gate: i_t = {it:.4f}\")\n",
        "    print(f\"  Candidate memory: Ct_tilde = {Ct_tilde:.4f}\")\n",
        "    print(f\"  Cell state: C_t = {C:.4f}\")\n",
        "    print(f\"  Output gate: o_t = {ot:.4f}\")\n",
        "    print(f\"  Hidden state: h_t = {h:.4f}\\n\")\n",
        "\n",
        "# Final output\n",
        "y = Wy * h + by\n",
        "print(f\"Final output y: {y:.4f}\")\n"
      ]
    }
  ]
}